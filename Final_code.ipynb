{
  "nbformat": 4,
  "nbformat_minor": 0,
  "metadata": {
    "colab": {
      "provenance": []
    },
    "kernelspec": {
      "name": "python3",
      "display_name": "Python 3"
    },
    "language_info": {
      "name": "python"
    }
  },
  "cells": [
    {
      "cell_type": "code",
      "execution_count": null,
      "metadata": {
        "id": "f8xBxaz0UEnw",
        "colab": {
          "base_uri": "https://localhost:8080/"
        },
        "outputId": "fb1fca32-2a9a-4def-df72-129b232d1075"
      },
      "outputs": [
        {
          "output_type": "stream",
          "name": "stdout",
          "text": [
            "Mounted at ./drive\n"
          ]
        }
      ],
      "source": [
        "from google.colab import drive\n",
        "drive.mount(\"./drive\")"
      ]
    },
    {
      "cell_type": "code",
      "source": [
        "!pip install pyssim"
      ],
      "metadata": {
        "id": "d_C_Tz4-UKnl"
      },
      "execution_count": null,
      "outputs": []
    },
    {
      "cell_type": "code",
      "source": [
        "!wget https://www.ieee.org/content/dam/ieee-org/ieee/web/org/conferences/conference-template-letter.docx"
      ],
      "metadata": {
        "colab": {
          "base_uri": "https://localhost:8080/"
        },
        "id": "ok4wC0X_WqSd",
        "outputId": "918940b7-eecb-43c9-9b39-b969c66a879c"
      },
      "execution_count": null,
      "outputs": [
        {
          "output_type": "stream",
          "name": "stdout",
          "text": [
            "--2023-12-03 06:25:49--  https://www.ieee.org/content/dam/ieee-org/ieee/web/org/conferences/conference-template-letter.docx\n",
            "Resolving www.ieee.org (www.ieee.org)... 23.39.7.88\n",
            "Connecting to www.ieee.org (www.ieee.org)|23.39.7.88|:443... connected.\n",
            "HTTP request sent, awaiting response... 200 OK\n",
            "Syntax error in Set-Cookie: AWSELBCORS=55B9EFD71A621664217649CC5C38F09A66B8CD41098F3D56379851DC886A0366123E7C88ADFDA49E920AFE49EFC4DCFD91A39FD99AA4B1E09EC960E71995097EB293C2DDCA;PATH=/;MAX-AGE=900;SECURE;; SameSite=None; Secure; at position 176.\n",
            "Length: 30516 (30K) [application/vnd.openxmlformats-officedocument.wordprocessingml.document]\n",
            "Saving to: ‘conference-template-letter.docx’\n",
            "\n",
            "conference-template 100%[===================>]  29.80K  --.-KB/s    in 0.01s   \n",
            "\n",
            "2023-12-03 06:25:49 (2.84 MB/s) - ‘conference-template-letter.docx’ saved [30516/30516]\n",
            "\n"
          ]
        }
      ]
    },
    {
      "cell_type": "code",
      "source": [
        "import cv2\n",
        "from skimage.util import random_noise\n",
        "from skimage.restoration import (denoise_tv_chambolle, denoise_bilateral,\n",
        "                                 denoise_wavelet, estimate_sigma)\n",
        "from skimage.metrics import peak_signal_noise_ratio as psnr\n",
        "from skimage.metrics import structural_similarity as ssim\n",
        "from ssim import SSIM #!pip install pyssim\n",
        "from PIL import Image\n",
        "import numpy as np\n",
        "import matplotlib.pyplot as plt\n",
        "from skimage import img_as_float\n",
        "from tqdm import tqdm\n"
      ],
      "metadata": {
        "id": "l3DTnHVNBH4C"
      },
      "execution_count": null,
      "outputs": []
    },
    {
      "cell_type": "code",
      "source": [
        "# Gt_img - 4 different noise img\n",
        "# two denoising also d1, d2"
      ],
      "metadata": {
        "id": "aT0w5mG5pZFe"
      },
      "execution_count": null,
      "outputs": []
    },
    {
      "cell_type": "code",
      "source": [
        "## Function to generate all noisy images\n",
        "\n",
        "def img_gen(img):\n",
        "  sigma = 0.05\n",
        "  var = sigma**2\n",
        "  return {\n",
        "      \"gaus\": random_noise(img, mode='gaussian', seed=None, clip=True, var=var),\n",
        "      \"pois\": random_noise(img, mode='poisson', seed=None, clip=True),\n",
        "      \"sp\": random_noise(img, mode='s&p', seed=None, clip=True),\n",
        "      \"spk\": random_noise(img, mode='speckle', seed=None, clip=True, var=var)\n",
        "  }\n",
        "\n",
        "\n",
        "## Function to denoise generate noisy image using two differet algo\n",
        "\n",
        "\n",
        "def denoised_img(img_obj):\n",
        "  denoised_img_obj = {}\n",
        "  for img_name in img_obj:\n",
        "    d1 = denoise_bilateral(img_obj[img_name], sigma_color=0.05, sigma_spatial=15,\n",
        "                channel_axis=-1)\n",
        "    d2 = denoise_wavelet(img_obj[img_name], channel_axis=-1, rescale_sigma=True)\n",
        "    denoised_img_obj[img_name] = [d1, d2]\n",
        "\n",
        "  return denoised_img_obj\n",
        "\n",
        "## Function to calcurate SSIM\n",
        "def calculate_ssim(rgb_image1, rgb_image2):\n",
        "    # Ensure the images have the same shape\n",
        "    if rgb_image1.shape != rgb_image2.shape:\n",
        "        raise ValueError(\"Input images must have the same shape\")\n",
        "\n",
        "    # Calculate SSIM for each color channel\n",
        "    ssim_r = ssim(rgb_image1[:,:,0], rgb_image2[:,:,0], multichannel=False)\n",
        "    ssim_g = ssim(rgb_image1[:,:,1], rgb_image2[:,:,1], multichannel=False)\n",
        "    ssim_b = ssim(rgb_image1[:,:,2], rgb_image2[:,:,2], multichannel=False)\n",
        "\n",
        "    # Calculate the average SSIM across all color channels\n",
        "    average_ssim = np.mean([ssim_r, ssim_g, ssim_b])\n",
        "\n",
        "    return average_ssim\n",
        "\n",
        "\n",
        "def cal_cw_ssim(img, d_img):\n",
        "    img = Image.fromarray(np.uint8(img)).convert('RGB')\n",
        "    noisy = Image.fromarray(np.uint8(d_img)).convert('RGB')\n",
        "    return SSIM(img).cw_ssim_value(noisy)\n",
        "\n",
        "def cal_IQA(img, denoised_img_obj):\n",
        "    iqa_list = {\n",
        "        \"gaus\": {},\n",
        "        \"pois\": {},\n",
        "        \"sp\": {},\n",
        "        \"spk\": {}}\n",
        "\n",
        "    for i in denoised_img_obj:\n",
        "      d1 = {}\n",
        "      d2 = {}\n",
        "\n",
        "      d1[\"psnr\"] = psnr(img, denoised_img_obj[i][0])\n",
        "      d1[\"ssim\"] = calculate_ssim(img, denoised_img_obj[i][0])\n",
        "      d1[\"cw-ssim\"] = cal_cw_ssim(img, denoised_img_obj[i][0])\n",
        "\n",
        "      d2[\"psnr\"] = psnr(img, denoised_img_obj[i][1])\n",
        "      d2[\"ssim\"] = calculate_ssim(img, denoised_img_obj[i][1])\n",
        "      d2[\"cw-ssim\"] = cal_cw_ssim(img, denoised_img_obj[i][1])\n",
        "\n",
        "      iqa_list[i][\"d1\"] = d1\n",
        "      iqa_list[i][\"d2\"] = d2\n",
        "\n",
        "    return iqa_list\n",
        "\n",
        "\n",
        "def save_sidd_img(dir_path, img_path, denoise_img, img):\n",
        "  final_path = os.path.join(dir_path, img_path.split(\"/\")[-2])\n",
        "\n",
        "  if not os.path.exists(final_path):\n",
        "      os.makedirs(final_path)\n",
        "\n",
        "  for i in denoise_img:\n",
        "    plt.imsave(f'{final_path}/{i}_d1.png', denoise_img[i][0])\n",
        "    try:\n",
        "      plt.imsave(f'{final_path}/{i}_d2.png', img_as_float(denoise_img[i][1]))\n",
        "    except:\n",
        "      # print(f'Error - {i}')\n",
        "      min_value = np.min(denoise_img[i][1])\n",
        "      max_value = np.max(denoise_img[i][1])\n",
        "      normalized_image = (denoise_img[i][1] - min_value) / (max_value - min_value)\n",
        "      plt.imsave(f'{final_path}/{i}_d2.png', normalized_image)\n",
        "\n",
        "  plt.imsave(f'{final_path}/original.png', img)\n",
        "\n",
        "\n",
        "def save_set12_img(dir_path, img_path, denoise_img, img):\n",
        "  final_path = os.path.join(dir_path, img_path.split(\"/\")[-1].split(\".\")[0])\n",
        "\n",
        "  if not os.path.exists(final_path):\n",
        "      os.makedirs(final_path)\n",
        "\n",
        "  for i in denoise_img:\n",
        "    plt.imsave(f'{final_path}/{i}_d1.png', denoise_img[i][0])\n",
        "    try:\n",
        "      plt.imsave(f'{final_path}/{i}_d2.png', img_as_float(denoise_img[i][1]))\n",
        "    except:\n",
        "      # print(f'Error - {i}')\n",
        "      min_value = np.min(denoise_img[i][1])\n",
        "      max_value = np.max(denoise_img[i][1])\n",
        "      normalized_image = (denoise_img[i][1] - min_value) / (max_value - min_value)\n",
        "      plt.imsave(f'{final_path}/{i}_d2.png', normalized_image)\n",
        "\n",
        "  plt.imsave(f'{final_path}/original.png', img)\n",
        "\n",
        "def save_cure_tsr_img(dir_path, img_path, denoise_img, img):\n",
        "  final_path = os.path.join(dir_path, \"_\".join(img_path.split(\"/\")[2:]).split(\".\")[0])\n",
        "  # print(final_path)\n",
        "  if not os.path.exists(final_path):\n",
        "      os.makedirs(final_path)\n",
        "\n",
        "  for i in denoise_img:\n",
        "    plt.imsave(f'{final_path}/{i}_d1.png', denoise_img[i][0])\n",
        "    try:\n",
        "      plt.imsave(f'{final_path}/{i}_d2.png', img_as_float(denoise_img[i][1]))\n",
        "    except:\n",
        "      # print(f'Error - {i}')\n",
        "      min_value = np.min(denoise_img[i][1])\n",
        "      max_value = np.max(denoise_img[i][1])\n",
        "      normalized_image = (denoise_img[i][1] - min_value) / (max_value - min_value)\n",
        "      plt.imsave(f'{final_path}/{i}_d2.png', normalized_image)\n",
        "\n",
        "  plt.imsave(f'{final_path}/original.png', img)\n",
        "\n",
        "\n",
        "def process_img(img_path, save_dir, dataset_type):\n",
        "  img = cv2.imread(img_path)\n",
        "  if dataset_type == \"sidd\":\n",
        "    img = img[0:50, 0:50]\n",
        "\n",
        "  noisiy_img = img_gen(img)\n",
        "\n",
        "  denoise_img = denoised_img(noisiy_img)\n",
        "  if dataset_type == \"sidd\":\n",
        "    img_name = img_path.split(\"Data\")[-1]\n",
        "  elif dataset_type == \"set12\":\n",
        "    img_name = img_path.split(\"/\")[-1].split(\".\")[0]\n",
        "  elif dataset_type == \"Cure_TSR\":\n",
        "    img_name = \"_\".join(img_path.split(\"/\")[2:-1])\n",
        "\n",
        "  save_dir = save_dir #\"/content/drive/MyDrive/DIP/dataset/SIDD_medium/all_SIDD_img_M\"\n",
        "\n",
        "  if dataset_type == \"sidd\":\n",
        "    save_sidd_img(save_dir, img_path, denoise_img, img)\n",
        "  elif dataset_type == \"set12\":\n",
        "    save_set12_img(save_dir, img_path, denoise_img, img)\n",
        "  elif dataset_type == \"Cure_TSR\":\n",
        "    save_cure_tsr_img(save_dir, img_path, denoise_img, img)\n",
        "\n",
        "  return img_name, cal_IQA(img, denoise_img)"
      ],
      "metadata": {
        "id": "twuIG1FgUQCa"
      },
      "execution_count": null,
      "outputs": []
    },
    {
      "cell_type": "code",
      "source": [
        "########## Code for Set 12 Dataset\n",
        "import os\n",
        "dir_path = \"/content/drive/MyDrive/DIP/dataset/mini_CURE_OR/train\"\n",
        "# save_path = \"/content/drive/MyDrive/DIP/dataset/set_12/all_set12_img\"\n",
        "\n",
        "img_folder_path_list =[os.path.join(dir_path, i) for i in os.listdir(dir_path)]\n"
      ],
      "metadata": {
        "id": "Q-WUav-pUabF"
      },
      "execution_count": null,
      "outputs": []
    },
    {
      "cell_type": "code",
      "source": [
        "!unzip /content/drive/MyDrive/DIP/dataset/CURE-TSR.zip"
      ],
      "metadata": {
        "id": "pwVtn4ERAxVn",
        "colab": {
          "base_uri": "https://localhost:8080/"
        },
        "outputId": "61675af4-e12f-4ba9-e545-d53133c589ce"
      },
      "execution_count": null,
      "outputs": [
        {
          "output_type": "stream",
          "name": "stdout",
          "text": [
            "Archive:  /content/drive/MyDrive/DIP/dataset/CURE-TSR.zip\n",
            " extracting: Unreal_Train.zip        \n",
            " extracting: Real_Train.zip          \n",
            " extracting: Unreal_Test.zip         \n",
            " extracting: Real_Test.zip           \n"
          ]
        }
      ]
    },
    {
      "cell_type": "code",
      "source": [
        "!unzip /content/Real_Test.zip"
      ],
      "metadata": {
        "id": "jaxR2-tVU0G7"
      },
      "execution_count": null,
      "outputs": []
    },
    {
      "cell_type": "code",
      "source": [
        "import os\n",
        "dir_path = \"/content/Real_Test\"\n",
        "dir_path2 = \"/content/Unreal_Train\"\n",
        "\n",
        "save_path = \"/content/drive/MyDrive/DIP/dataset/Cure_TSR/all_CURE_TSR_data\"\n",
        "\n",
        "folder_list1 = [os.path.join(dir_path, i) for i in os.listdir(dir_path)]\n",
        "# folder_list2 = [os.path.join(dir_path2, i) for i in os.listdir(dir_path2)]"
      ],
      "metadata": {
        "id": "cGQtKPolU0K3"
      },
      "execution_count": null,
      "outputs": []
    },
    {
      "cell_type": "code",
      "source": [
        "img_folder_path_list = []\n",
        "for j in folder_list1:\n",
        "  new_ = [os.path.join(j, i) for i in os.listdir(j)]\n",
        "  print(j, len(new_))\n",
        "  img_folder_path_list.extend(new_)"
      ],
      "metadata": {
        "id": "jHgOxPU1U0Np"
      },
      "execution_count": null,
      "outputs": []
    },
    {
      "cell_type": "code",
      "source": [
        "len(img_folder_path_list)"
      ],
      "metadata": {
        "colab": {
          "base_uri": "https://localhost:8080/"
        },
        "id": "8O1GKBeAU0Qk",
        "outputId": "833b76fc-ebab-4910-e9d5-3f9001deec30"
      },
      "execution_count": null,
      "outputs": [
        {
          "output_type": "execute_result",
          "data": {
            "text/plain": [
              "203374"
            ]
          },
          "metadata": {},
          "execution_count": 10
        }
      ]
    },
    {
      "cell_type": "code",
      "source": [
        "img = cv2.imread(\"/content/Real_Test/CodecError-1/01_01_03_01_0001.bmp\")"
      ],
      "metadata": {
        "id": "ItpJu1f6U0TX"
      },
      "execution_count": null,
      "outputs": []
    },
    {
      "cell_type": "code",
      "source": [
        "img2 = cv2.imread(\"/content/Real_Test/ChallengeFree/01_01_03_01_0001.bmp\")"
      ],
      "metadata": {
        "id": "GI7GxPVeYl2K"
      },
      "execution_count": null,
      "outputs": []
    },
    {
      "cell_type": "code",
      "source": [],
      "metadata": {
        "id": "T3Ii_e5fYtw3"
      },
      "execution_count": null,
      "outputs": []
    },
    {
      "cell_type": "code",
      "source": [],
      "metadata": {
        "id": "9M-oSJXJYt3B"
      },
      "execution_count": null,
      "outputs": []
    },
    {
      "cell_type": "code",
      "source": [],
      "metadata": {
        "id": "fzTX1kuGYt-h"
      },
      "execution_count": null,
      "outputs": []
    },
    {
      "cell_type": "code",
      "source": [
        "!unzip /content/drive/MyDrive/DIP/dataset/CURE-TSR.zip -d /content/drive/MyDrive/DIP/dataset/Cure_TSR"
      ],
      "metadata": {
        "id": "uA1dddSJ_ktE",
        "colab": {
          "base_uri": "https://localhost:8080/"
        },
        "outputId": "b3fe72f7-5b39-480f-e4a9-5f10b4d6545f"
      },
      "execution_count": null,
      "outputs": [
        {
          "output_type": "stream",
          "name": "stdout",
          "text": [
            "Archive:  /content/drive/MyDrive/DIP/dataset/CURE-TSR.zip\n",
            " extracting: /content/drive/MyDrive/DIP/dataset/Cure_TSR/Unreal_Train.zip  \n",
            " extracting: /content/drive/MyDrive/DIP/dataset/Cure_TSR/Real_Train.zip  \n",
            " extracting: /content/drive/MyDrive/DIP/dataset/Cure_TSR/Unreal_Test.zip  \n",
            " extracting: /content/drive/MyDrive/DIP/dataset/Cure_TSR/Real_Test.zip  \n"
          ]
        }
      ]
    },
    {
      "cell_type": "code",
      "source": [
        "!unzip /content/drive/MyDrive/DIP/dataset/Cure_TSR/Real_Train.zip"
      ],
      "metadata": {
        "id": "6SqhBpAA5JcF"
      },
      "execution_count": null,
      "outputs": []
    },
    {
      "cell_type": "code",
      "source": [
        "########## Code for Set 12 Dataset\n",
        "import os\n",
        "dir_path = \"/content/Real_Train\"\n",
        "dir_path2 = \"/content/Unreal_Train\"\n",
        "\n",
        "save_path = \"/content/drive/MyDrive/DIP/dataset/Cure_TSR/all_CURE_TSR_data\"\n",
        "\n",
        "folder_list1 = [os.path.join(dir_path, i) for i in os.listdir(dir_path)]\n",
        "folder_list2 = [os.path.join(dir_path2, i) for i in os.listdir(dir_path2)]\n",
        "\n",
        "img_folder_path_list = []\n",
        "for j in folder_list1:\n",
        "  img_folder_path_list.extend([os.path.join(j, i) for i in os.listdir(j)])\n",
        "\n",
        "for j in folder_list2:\n",
        "  img_folder_path_list.extend([os.path.join(j, i) for i in os.listdir(j)])"
      ],
      "metadata": {
        "id": "zfbOIh0f-b6y"
      },
      "execution_count": null,
      "outputs": []
    },
    {
      "cell_type": "code",
      "source": [
        "dataset_type = \"Cure_TSR\" # set12 | sidd | Cure_TSR\n",
        "\n",
        "dataset_obj = {\n",
        "    \"img_name\" : [],\n",
        "    \"values\": []\n",
        "}\n",
        "\n",
        "for i in tqdm(img_folder_path_list):\n",
        "  # print(\"_\".join(i.split(\"/\")[2:]).split(\".\")[0])\n",
        "  img_name, values = process_img(i, save_path, dataset_type)\n",
        "  dataset_obj[\"img_name\"].append(img_name)\n",
        "  dataset_obj[\"values\"].append(values)\n"
      ],
      "metadata": {
        "id": "M7Erb-baHXLT"
      },
      "execution_count": null,
      "outputs": []
    },
    {
      "cell_type": "code",
      "source": [
        "# from time import sleep\n",
        "\n",
        "# for i in tqdm(img_folder_path_list):\n",
        "#   print(i)\n",
        "#   sleep(1)"
      ],
      "metadata": {
        "id": "qN1KstJLHbx8"
      },
      "execution_count": null,
      "outputs": []
    },
    {
      "cell_type": "code",
      "source": [],
      "metadata": {
        "id": "SP6kSPjkIY0i"
      },
      "execution_count": null,
      "outputs": []
    },
    {
      "cell_type": "code",
      "source": [
        "\"_\".join(img_folder_path_list[0].split(\"/\")[2:]).split(\".\")[0]"
      ],
      "metadata": {
        "colab": {
          "base_uri": "https://localhost:8080/",
          "height": 35
        },
        "id": "30xUFNHcN1ot",
        "outputId": "63fb3caa-0b4c-46b0-ba05-7c9cdbec359d"
      },
      "execution_count": null,
      "outputs": [
        {
          "output_type": "execute_result",
          "data": {
            "text/plain": [
              "'Real_Train_Snow-2_01_02_11_02_0176'"
            ],
            "application/vnd.google.colaboratory.intrinsic+json": {
              "type": "string"
            }
          },
          "metadata": {},
          "execution_count": 47
        }
      ]
    },
    {
      "cell_type": "code",
      "source": [
        "## Code for CURE-TSR"
      ],
      "metadata": {
        "id": "-APkYTgOOBgf"
      },
      "execution_count": null,
      "outputs": []
    },
    {
      "cell_type": "code",
      "source": [
        "import os\n",
        "dir_path = \"/content/Real_Test\"\n",
        "dir_path2 = \"/content/Unreal_Train\"\n",
        "\n",
        "save_path = \"/content/drive/MyDrive/DIP/dataset/Cure_TSR/all_CURE_TSR_data\"\n",
        "\n",
        "folder_list1 = [os.path.join(dir_path, i) for i in os.listdir(dir_path)]\n",
        "img_folder_path_list = []\n",
        "for j in folder_list1:\n",
        "  if j != '/content/Real_Test/ChallengeFree':\n",
        "    img_folder_path_list.extend([os.path.join(j, i) for i in os.listdir(j)][:100])"
      ],
      "metadata": {
        "id": "ZWulk7eZcAtb"
      },
      "execution_count": null,
      "outputs": []
    },
    {
      "cell_type": "code",
      "source": [
        "len(img_folder_path_list)"
      ],
      "metadata": {
        "colab": {
          "base_uri": "https://localhost:8080/"
        },
        "id": "8Ri4T9mXfVoK",
        "outputId": "c7d86837-a736-40aa-fa6c-cc37cf6d92f0"
      },
      "execution_count": null,
      "outputs": [
        {
          "output_type": "execute_result",
          "data": {
            "text/plain": [
              "6000"
            ]
          },
          "metadata": {},
          "execution_count": 8
        }
      ]
    },
    {
      "cell_type": "code",
      "source": [
        "len(img_folder_path_list)"
      ],
      "metadata": {
        "colab": {
          "base_uri": "https://localhost:8080/"
        },
        "id": "LtL1B0rafO66",
        "outputId": "1993bb86-5f3c-4ee2-e0a2-98e74f98a88c"
      },
      "execution_count": null,
      "outputs": [
        {
          "output_type": "execute_result",
          "data": {
            "text/plain": [
              "12000"
            ]
          },
          "metadata": {},
          "execution_count": 8
        }
      ]
    },
    {
      "cell_type": "code",
      "source": [
        "img_folder_path_list[0]"
      ],
      "metadata": {
        "colab": {
          "base_uri": "https://localhost:8080/",
          "height": 35
        },
        "id": "Oiudn9OQcCRp",
        "outputId": "7a4130a1-390d-4197-a3ac-923123e6d2f2"
      },
      "execution_count": null,
      "outputs": [
        {
          "output_type": "execute_result",
          "data": {
            "text/plain": [
              "'/content/Real_Test/Darkening-4/01_14_04_04_0522.bmp'"
            ],
            "application/vnd.google.colaboratory.intrinsic+json": {
              "type": "string"
            }
          },
          "metadata": {},
          "execution_count": 9
        }
      ]
    },
    {
      "cell_type": "code",
      "source": [
        "img_folder_path_list[0].split(\"/\")[-1]"
      ],
      "metadata": {
        "colab": {
          "base_uri": "https://localhost:8080/",
          "height": 35
        },
        "id": "KbA1RsU_cQOc",
        "outputId": "3d09e244-add4-4d64-8f8d-3b59aefe5e1a"
      },
      "execution_count": null,
      "outputs": [
        {
          "output_type": "execute_result",
          "data": {
            "text/plain": [
              "'01_14_04_04_0522.bmp'"
            ],
            "application/vnd.google.colaboratory.intrinsic+json": {
              "type": "string"
            }
          },
          "metadata": {},
          "execution_count": 10
        }
      ]
    },
    {
      "cell_type": "code",
      "source": [
        "class_name = img_folder_path_list[0].split(\"/\")[-2]\n",
        "img_name = img_folder_path_list[0].split(\"/\")[-1]"
      ],
      "metadata": {
        "id": "AyIpxYkecMJK"
      },
      "execution_count": null,
      "outputs": []
    },
    {
      "cell_type": "code",
      "source": [
        "class_name"
      ],
      "metadata": {
        "colab": {
          "base_uri": "https://localhost:8080/",
          "height": 35
        },
        "id": "6fOo8lxAdKqz",
        "outputId": "7176ae0e-af45-434a-b642-57bd4efa7123"
      },
      "execution_count": null,
      "outputs": [
        {
          "output_type": "execute_result",
          "data": {
            "text/plain": [
              "'Darkening-4'"
            ],
            "application/vnd.google.colaboratory.intrinsic+json": {
              "type": "string"
            }
          },
          "metadata": {},
          "execution_count": 12
        }
      ]
    },
    {
      "cell_type": "code",
      "source": [
        "img_name"
      ],
      "metadata": {
        "colab": {
          "base_uri": "https://localhost:8080/",
          "height": 35
        },
        "id": "PJ_TE4mRdL07",
        "outputId": "d8301e05-6b97-4b44-eb75-19c618a37aa0"
      },
      "execution_count": null,
      "outputs": [
        {
          "output_type": "execute_result",
          "data": {
            "text/plain": [
              "'01_14_04_04_0522.bmp'"
            ],
            "application/vnd.google.colaboratory.intrinsic+json": {
              "type": "string"
            }
          },
          "metadata": {},
          "execution_count": 13
        }
      ]
    },
    {
      "cell_type": "code",
      "source": [
        "gt_folder = \"/content/Real_Test/ChallengeFree/\""
      ],
      "metadata": {
        "id": "oeeDXPsgbwSC"
      },
      "execution_count": null,
      "outputs": []
    },
    {
      "cell_type": "code",
      "source": [
        "save_folder = \"/content/drive/MyDrive/DIP/dataset/CURE_TSR/r1\""
      ],
      "metadata": {
        "id": "tiJy_Pauc_vE"
      },
      "execution_count": null,
      "outputs": []
    },
    {
      "cell_type": "code",
      "source": [
        "import json"
      ],
      "metadata": {
        "id": "n3XLfD4cngcM"
      },
      "execution_count": null,
      "outputs": []
    },
    {
      "cell_type": "code",
      "source": [
        "res = {\n",
        "    \"img_name\": [],\n",
        "    \"psnr_d1\" : [],\n",
        "    \"ssim_d1\": [],\n",
        "    \"cw-ssim_d1\": [],\n",
        "    \"psnr_d2\" : [],\n",
        "    \"ssim_d2\": [],\n",
        "    \"cw-ssim_d2\": [],\n",
        "}"
      ],
      "metadata": {
        "id": "k7k3tHi7dsrs"
      },
      "execution_count": null,
      "outputs": []
    },
    {
      "cell_type": "code",
      "source": [
        "class_name = i.split(\"/\")[-2]\n",
        "img_name = i.split(\"/\")[-1]\n",
        "\n",
        "gt_img_name = \"01_\"+img_name.split(\".\")[0].split(\"_\")[1] +\"_00_00_\" + img_name.split(\".\")[0].split(\"_\")[-1] + \".bmp\"\n",
        "# print(gt_folder + gt_img_name, i)\n",
        "gt_img = cv2.imread(gt_folder + gt_img_name)\n",
        "img = cv2.imread(i)"
      ],
      "metadata": {
        "id": "L-uZL7P22aGv"
      },
      "execution_count": null,
      "outputs": []
    },
    {
      "cell_type": "code",
      "source": [
        "class_name = img_folder_path_list[0].split(\"/\")[-2]\n",
        "img_name = img_folder_path_list[0].split(\"/\")[-1]\n",
        "\n",
        "gt_img_name = \"01_\"+img_name.split(\".\")[0].split(\"_\")[1] +\"_00_00_\" + img_name.split(\".\")[0].split(\"_\")[-1] + \".bmp\"\n",
        "# print(gt_folder + gt_img_name, i)\n",
        "gt_img = cv2.imread(gt_folder + gt_img_name)\n",
        "img = cv2.imread(i)\n",
        "\n",
        "gt_img = np.float64(gt_img)\n",
        "# img = img/255 #(img - np.min(img)) / (np.max(img) - np.min(img))\n",
        "# gt_img = gt_img/255 #(gt_img - np.min(gt_img)) / (np.max(gt_img) - np.min(gt_img))\n",
        "\n",
        "d1 = denoise_bilateral(img, sigma_color=0.05, sigma_spatial=15,\n",
        "              channel_axis=-1)\n",
        "d2 = denoise_wavelet(img, channel_axis=-1, rescale_sigma=True)"
      ],
      "metadata": {
        "id": "lsNUS6j02beP"
      },
      "execution_count": null,
      "outputs": []
    },
    {
      "cell_type": "code",
      "source": [
        "type(gt_img[0][0][0])"
      ],
      "metadata": {
        "colab": {
          "base_uri": "https://localhost:8080/"
        },
        "id": "CTOGg3sX78em",
        "outputId": "47f01902-2c0e-433f-f349-f32c9cd6b292"
      },
      "execution_count": null,
      "outputs": [
        {
          "output_type": "execute_result",
          "data": {
            "text/plain": [
              "numpy.float64"
            ]
          },
          "metadata": {},
          "execution_count": 38
        }
      ]
    },
    {
      "cell_type": "code",
      "source": [
        "psnr(gt_img, d1, data_range=gt_img.max() - gt_img.min())"
      ],
      "metadata": {
        "colab": {
          "base_uri": "https://localhost:8080/"
        },
        "id": "dzumo2-A2biO",
        "outputId": "55fcdc53-4d25-4b05-a289-fd981996ff6c"
      },
      "execution_count": null,
      "outputs": [
        {
          "output_type": "execute_result",
          "data": {
            "text/plain": [
              "3.526549469134408"
            ]
          },
          "metadata": {},
          "execution_count": 39
        }
      ]
    },
    {
      "cell_type": "code",
      "source": [],
      "metadata": {
        "id": "6C80Q4EU70yp"
      },
      "execution_count": null,
      "outputs": []
    },
    {
      "cell_type": "code",
      "source": [
        "for i in tqdm(img_folder_path_list):\n",
        "  class_name = i.split(\"/\")[-2]\n",
        "  img_name = i.split(\"/\")[-1]\n",
        "\n",
        "  gt_img_name = \"01_\"+img_name.split(\".\")[0].split(\"_\")[1] +\"_00_00_\" + img_name.split(\".\")[0].split(\"_\")[-1] + \".bmp\"\n",
        "  # print(gt_folder + gt_img_name, i)\n",
        "  gt_img = cv2.imread(gt_folder + gt_img_name)\n",
        "  img = cv2.imread(i)\n",
        "  # if gt_img == None:\n",
        "  #   print(gt_folder + img_name, i)\n",
        "  #   continue\n",
        "\n",
        "  # img = img/255 #(img - np.min(img)) / (np.max(img) - np.min(img))\n",
        "  gt_img = gt_img/255 #(gt_img - np.min(gt_img)) / (np.max(gt_img) - np.min(gt_img))\n",
        "  # print(img[0][0][0], gt_img[0][0][0])\n",
        "  d1 = denoise_bilateral(img, sigma_color=0.05, sigma_spatial=15,\n",
        "                channel_axis=-1)\n",
        "  d2 = denoise_wavelet(img, channel_axis=-1, rescale_sigma=True)\n",
        "  # print(d1)\n",
        "  final_path = os.path.join(save_folder, \"_\".join([class_name, img_name.split(\".\")[0]]))\n",
        "  # print(final_path)\n",
        "  if not os.path.exists(final_path):\n",
        "      os.makedirs(final_path)\n",
        "\n",
        "  plt.imsave(f'{final_path}/original.png', gt_img)\n",
        "  plt.imsave(f'{final_path}/d1.png', d1)\n",
        "  plt.imsave(f'{final_path}/d2.png', d2)\n",
        "\n",
        "  res[\"img_name\"].append(\"_\".join([class_name, img_name]))\n",
        "  # print(gt_img.shape, d1.shape, img.shape)\n",
        "  res[\"psnr_d1\"].append(psnr(gt_img, d1))\n",
        "  res[\"psnr_d2\"].append(psnr(gt_img, d2))\n",
        "\n",
        "  res[\"ssim_d1\"].append(calculate_ssim(gt_img, d1))\n",
        "  res[\"ssim_d2\"].append(calculate_ssim(gt_img, d2))\n",
        "\n",
        "  res[\"cw-ssim_d1\"].append(cal_cw_ssim(gt_img, d1))\n",
        "  res[\"cw-ssim_d2\"].append(cal_cw_ssim(gt_img, d2))\n",
        "\n",
        "  # print(res)\n",
        "  # break\n",
        "  with open(\"/content/drive/MyDrive/DIP/dataset/CURE_TSR/CURE_TSR_real_final.json\", \"w\") as write_file:\n",
        "        json.dump(res, write_file)\n"
      ],
      "metadata": {
        "colab": {
          "base_uri": "https://localhost:8080/"
        },
        "id": "-XYrfY-Qcct6",
        "outputId": "23cf819b-59a6-4275-c338-0c248b8137e2"
      },
      "execution_count": null,
      "outputs": [
        {
          "output_type": "stream",
          "name": "stderr",
          "text": [
            "\r  0%|          | 0/6000 [00:00<?, ?it/s]<ipython-input-4-11a21fdabb62>:34: FutureWarning: `multichannel` is a deprecated argument name for `structural_similarity`. It will be removed in version 1.0. Please use `channel_axis` instead.\n",
            "  ssim_r = ssim(rgb_image1[:,:,0], rgb_image2[:,:,0], multichannel=False)\n",
            "<ipython-input-4-11a21fdabb62>:35: FutureWarning: `multichannel` is a deprecated argument name for `structural_similarity`. It will be removed in version 1.0. Please use `channel_axis` instead.\n",
            "  ssim_g = ssim(rgb_image1[:,:,1], rgb_image2[:,:,1], multichannel=False)\n",
            "<ipython-input-4-11a21fdabb62>:36: FutureWarning: `multichannel` is a deprecated argument name for `structural_similarity`. It will be removed in version 1.0. Please use `channel_axis` instead.\n",
            "  ssim_b = ssim(rgb_image1[:,:,2], rgb_image2[:,:,2], multichannel=False)\n",
            " 58%|█████▊    | 3502/6000 [28:40<09:34,  4.35it/s]/usr/local/lib/python3.10/dist-packages/numpy/core/fromnumeric.py:3432: RuntimeWarning: Mean of empty slice.\n",
            "  return _methods._mean(a, axis=axis, dtype=dtype,\n",
            "/usr/local/lib/python3.10/dist-packages/numpy/core/_methods.py:190: RuntimeWarning: invalid value encountered in double_scalars\n",
            "  ret = ret.dtype.type(ret / rcount)\n",
            " 58%|█████▊    | 3506/6000 [28:41<13:46,  3.02it/s]/usr/local/lib/python3.10/dist-packages/skimage/restoration/_denoise.py:722: RuntimeWarning: invalid value encountered in double_scalars\n",
            "  scale_factor = range_post / range_pre\n",
            "<ipython-input-41-ef7d571daadf>:31: UserWarning: Inputs have mismatched dtype.  Setting data_range based on image_true.\n",
            "  res[\"psnr_d1\"].append(psnr(gt_img, d1))\n",
            "/usr/local/lib/python3.10/dist-packages/skimage/_shared/utils.py:348: UserWarning: Inputs have mismatched dtype.  Setting data_range based on im1.dtype.\n",
            "  return func(*args, **kwargs)\n",
            "100%|██████████| 6000/6000 [50:25<00:00,  1.98it/s]\n"
          ]
        }
      ]
    },
    {
      "cell_type": "code",
      "source": [
        "with open(\"/content/drive/MyDrive/DIP/dataset/CURE_TSR/CURE_TSR_real_final_f.json\", \"w\") as write_file:\n",
        "        json.dump(res, write_file)"
      ],
      "metadata": {
        "id": "e_qb-CgDCSmB"
      },
      "execution_count": null,
      "outputs": []
    },
    {
      "cell_type": "code",
      "source": [
        "\"_\".join([class_name, img_name.split(\".\")[0]])"
      ],
      "metadata": {
        "colab": {
          "base_uri": "https://localhost:8080/",
          "height": 35
        },
        "id": "yqMAq1PGdI-_",
        "outputId": "d64dbd07-2736-464f-ccf8-80a41e706cda"
      },
      "execution_count": null,
      "outputs": [
        {
          "output_type": "execute_result",
          "data": {
            "text/plain": [
              "'Darkening-4_01_14_04_04_0522'"
            ],
            "application/vnd.google.colaboratory.intrinsic+json": {
              "type": "string"
            }
          },
          "metadata": {},
          "execution_count": 31
        }
      ]
    },
    {
      "cell_type": "code",
      "source": [
        "import os"
      ],
      "metadata": {
        "id": "fffXOQZDimyx"
      },
      "execution_count": null,
      "outputs": []
    },
    {
      "cell_type": "code",
      "source": [
        "j = \"/content/Real_Test/ChallengeFree\"\n",
        "a = [os.path.join(j, i) for i in os.listdir(j)]"
      ],
      "metadata": {
        "id": "3sH4_VmBia_J"
      },
      "execution_count": null,
      "outputs": []
    },
    {
      "cell_type": "code",
      "source": [
        "a[0]"
      ],
      "metadata": {
        "colab": {
          "base_uri": "https://localhost:8080/",
          "height": 35
        },
        "id": "pU_V1EzuilXb",
        "outputId": "9f222105-75ee-4b98-b0e4-bf128f07f6ed"
      },
      "execution_count": null,
      "outputs": [
        {
          "output_type": "execute_result",
          "data": {
            "text/plain": [
              "'/content/Real_Test/ChallengeFree/01_14_00_00_0213.bmp'"
            ],
            "application/vnd.google.colaboratory.intrinsic+json": {
              "type": "string"
            }
          },
          "metadata": {},
          "execution_count": 10
        }
      ]
    },
    {
      "cell_type": "code",
      "source": [
        "\"01_\"+img_name.split(\".\")[0].split(\"_\")[1] +\"_00_00_\" + img_name.split(\".\")[0].split(\"_\")[-1] + \".bmp\""
      ],
      "metadata": {
        "id": "_5xxZBeKitGb"
      },
      "execution_count": null,
      "outputs": []
    },
    {
      "cell_type": "code",
      "source": [
        "/content/Real_Test/CodecError-1/01_01_03_01_0001.bmp, /content/Real_Test/CodecError-1/01_01_03_01_0003.bmp"
      ],
      "metadata": {
        "id": "ajn9HHaVhysb"
      },
      "execution_count": null,
      "outputs": []
    },
    {
      "cell_type": "code",
      "source": [
        "img = cv2.imread(\"/content/Real_Test/ChallengeFree/01_14_00_00_0522.bmp\")"
      ],
      "metadata": {
        "id": "ipOMUNulh5Uk"
      },
      "execution_count": null,
      "outputs": []
    },
    {
      "cell_type": "code",
      "source": [
        "img.shape"
      ],
      "metadata": {
        "colab": {
          "base_uri": "https://localhost:8080/"
        },
        "id": "IynWM2N8gJKW",
        "outputId": "301518d2-b608-4f58-da7a-cb6d4eefeb0a"
      },
      "execution_count": null,
      "outputs": [
        {
          "output_type": "execute_result",
          "data": {
            "text/plain": [
              "(12, 11, 3)"
            ]
          },
          "metadata": {},
          "execution_count": 53
        }
      ]
    },
    {
      "cell_type": "code",
      "source": [
        "img = cv2.imread(\"/content/Real_Test/Darkening-4/01_14_04_04_0522.bmp\")"
      ],
      "metadata": {
        "id": "YLkIUHwukoO0"
      },
      "execution_count": null,
      "outputs": []
    },
    {
      "cell_type": "code",
      "source": [
        "img.shape"
      ],
      "metadata": {
        "colab": {
          "base_uri": "https://localhost:8080/"
        },
        "id": "QVoi8Qv0mHTo",
        "outputId": "65adcaf6-332c-4690-8c96-c7592bd4e279"
      },
      "execution_count": null,
      "outputs": [
        {
          "output_type": "execute_result",
          "data": {
            "text/plain": [
              "(12, 11, 3)"
            ]
          },
          "metadata": {},
          "execution_count": 48
        }
      ]
    },
    {
      "cell_type": "code",
      "source": [
        "\"01_14_04_04_0522.bmp\".split(\".\")[0].split(\"_\")[1]"
      ],
      "metadata": {
        "colab": {
          "base_uri": "https://localhost:8080/",
          "height": 35
        },
        "id": "Eba1Xifzk4su",
        "outputId": "4e416044-49f3-4871-e823-cf424f6235a8"
      },
      "execution_count": null,
      "outputs": [
        {
          "output_type": "execute_result",
          "data": {
            "text/plain": [
              "'14'"
            ],
            "application/vnd.google.colaboratory.intrinsic+json": {
              "type": "string"
            }
          },
          "metadata": {},
          "execution_count": 57
        }
      ]
    },
    {
      "cell_type": "code",
      "source": [
        "plt.imshow(img)"
      ],
      "metadata": {
        "colab": {
          "base_uri": "https://localhost:8080/",
          "height": 451
        },
        "id": "M222GZ84mWU_",
        "outputId": "b41bd540-65a2-4481-e9aa-bd124ad68531"
      },
      "execution_count": null,
      "outputs": [
        {
          "output_type": "execute_result",
          "data": {
            "text/plain": [
              "<matplotlib.image.AxesImage at 0x789836261990>"
            ]
          },
          "metadata": {},
          "execution_count": 51
        },
        {
          "output_type": "display_data",
          "data": {
            "text/plain": [
              "<Figure size 640x480 with 1 Axes>"
            ],
            "image/png": "[encoded data removed]"
          },
          "metadata": {}
        }
      ]
    },
    {
      "cell_type": "code",
      "source": [
        "img.shape"
      ],
      "metadata": {
        "colab": {
          "base_uri": "https://localhost:8080/"
        },
        "id": "--8sS2DegKM3",
        "outputId": "c6d025c3-8c59-474d-f5ea-478ef63c2cb2"
      },
      "execution_count": null,
      "outputs": [
        {
          "output_type": "execute_result",
          "data": {
            "text/plain": [
              "(30, 29, 3)"
            ]
          },
          "metadata": {},
          "execution_count": 24
        }
      ]
    },
    {
      "cell_type": "code",
      "source": [
        "\"/content/Real_Test/CodecError-1/01_01_03_01_0018.bmp\".split(\".\")[0].split(\"_\")[-1]"
      ],
      "metadata": {
        "colab": {
          "base_uri": "https://localhost:8080/",
          "height": 35
        },
        "id": "BZ-VTAKbg1UQ",
        "outputId": "4bd83759-0090-4e12-f472-7a3ad1b70625"
      },
      "execution_count": null,
      "outputs": [
        {
          "output_type": "execute_result",
          "data": {
            "text/plain": [
              "'0018'"
            ],
            "application/vnd.google.colaboratory.intrinsic+json": {
              "type": "string"
            }
          },
          "metadata": {},
          "execution_count": 25
        }
      ]
    },
    {
      "cell_type": "code",
      "source": [
        "import json"
      ],
      "metadata": {
        "id": "eqs8pwJChJVn"
      },
      "execution_count": null,
      "outputs": []
    },
    {
      "cell_type": "code",
      "source": [
        "f = open(\"/content/drive/MyDrive/DIP/dataset/CURE_TSR/CURE_TSR_real_final_f.json\")\n",
        "un = json.load(f)"
      ],
      "metadata": {
        "id": "cjQFLfL0obPu"
      },
      "execution_count": null,
      "outputs": []
    },
    {
      "cell_type": "code",
      "source": [
        "for i in range(0, len(un[\"img_name\"])):\n",
        "  print(un[\"img_name\"][i])\n",
        "  print(un[\"psnr_d1\"][i])\n",
        "  print(un[\"ssim_d1\"][i])\n",
        "  print(un[\"cw-ssim_d1\"][i])\n",
        "  print(un[\"psnr_d2\"][i])\n",
        "  print(un[\"ssim_d2\"][i])\n",
        "  print(un[\"cw-ssim_d2\"][i])"
      ],
      "metadata": {
        "id": "dnS7kX4eouJy"
      },
      "execution_count": null,
      "outputs": []
    },
    {
      "cell_type": "code",
      "source": [
        "new_res = {\n",
        "    \"img_name\": un[\"img_name\"],\n",
        "    \"psnr_d1\" : un[\"psnr_d1\"],\n",
        "    \"ssim_d1\": un[\"ssim_d1\"],\n",
        "    \"cw-ssim_d1\": [],\n",
        "    \"psnr_d2\" : un[\"psnr_d2\"],\n",
        "    \"ssim_d2\": un[\"ssim_d2\"],\n",
        "    \"cw-ssim_d2\": [],\n",
        "}\n",
        "\n",
        "for i in range(0, len(un[\"img_name\"])):\n",
        "  img_path = \"/content/drive/MyDrive/DIP/dataset/CURE_TSR/r1/\" + un[\"img_name\"][i].split(\".\")[0]\n",
        "  img1 = cv2.imread(img_path + \"/original.png\")\n",
        "  d1 = cv2.imread(img_path + \"/d1.png\")\n",
        "  d2 = cv2.imread(img_path + \"/d2.png\")\n",
        "  new_res[\"cw-ssim_d1\"].append(cal_cw_ssim(img1, d1))\n",
        "  new_res[\"cw-ssim_d2\"].append(cal_cw_ssim(img1, d2))\n",
        "  # print(cal_cw_ssim(img1, d1))\n",
        "  # print(cal_cw_ssim(img1, d2))"
      ],
      "metadata": {
        "id": "H51KPawqpWkb"
      },
      "execution_count": null,
      "outputs": []
    },
    {
      "cell_type": "code",
      "source": [
        "with open(\"/content/drive/MyDrive/DIP/dataset/CURE_TSR_real_final_f_new_correct.json\", \"w\") as write_file:\n",
        "        json.dump(new_res, write_file)"
      ],
      "metadata": {
        "id": "XztRESldwoHQ"
      },
      "execution_count": null,
      "outputs": []
    },
    {
      "cell_type": "code",
      "source": [
        "j = []\n",
        "for i in range(0, len(un[\"img_name\"])):\n",
        "  # print(un[\"img_name\"][i].split(\"_\")[0])\n",
        "  if un[\"img_name\"][i].split(\"_\")[0] in j:\n",
        "    continue\n",
        "  j.append(un[\"img_name\"][i].split(\"_\")[0])"
      ],
      "metadata": {
        "id": "JwE83aHBpi9F"
      },
      "execution_count": null,
      "outputs": []
    },
    {
      "cell_type": "code",
      "source": [
        "j"
      ],
      "metadata": {
        "id": "sRD3az3vps1l"
      },
      "execution_count": null,
      "outputs": []
    },
    {
      "cell_type": "code",
      "source": [
        "len(j)*100"
      ],
      "metadata": {
        "colab": {
          "base_uri": "https://localhost:8080/"
        },
        "id": "SAltC4Mep9p8",
        "outputId": "1e24365e-cc47-415e-ffaf-c28fde9780ed"
      },
      "execution_count": null,
      "outputs": [
        {
          "output_type": "execute_result",
          "data": {
            "text/plain": [
              "6000"
            ]
          },
          "metadata": {},
          "execution_count": 14
        }
      ]
    },
    {
      "cell_type": "code",
      "source": [
        "len(un[\"img_name\"])"
      ],
      "metadata": {
        "colab": {
          "base_uri": "https://localhost:8080/"
        },
        "id": "V05QwoSPp_50",
        "outputId": "6b11879b-354c-4b96-f76b-374ffe0becfa"
      },
      "execution_count": null,
      "outputs": [
        {
          "output_type": "execute_result",
          "data": {
            "text/plain": [
              "6000"
            ]
          },
          "metadata": {},
          "execution_count": 13
        }
      ]
    },
    {
      "cell_type": "code",
      "source": [],
      "metadata": {
        "id": "Y0n-goMFqFhc"
      },
      "execution_count": null,
      "outputs": []
    }
  ]
}